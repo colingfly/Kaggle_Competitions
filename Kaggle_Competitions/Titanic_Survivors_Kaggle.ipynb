{
 "cells": [
  {
   "cell_type": "code",
   "execution_count": 2,
   "metadata": {},
   "outputs": [
    {
     "name": "stderr",
     "output_type": "stream",
     "text": [
      "/Library/Frameworks/Python.framework/Versions/3.11/lib/python3.11/site-packages/sklearn/preprocessing/_encoders.py:972: FutureWarning: `sparse` was renamed to `sparse_output` in version 1.2 and will be removed in 1.4. `sparse_output` is ignored unless you leave `sparse` to its default value.\n",
      "  warnings.warn(\n"
     ]
    }
   ],
   "source": [
    "import pandas as pd\n",
    "import numpy as np\n",
    "import matplotlib.pyplot as plt\n",
    "from sklearn.preprocessing import OneHotEncoder\n",
    "from sklearn.preprocessing import StandardScaler\n",
    "from sklearn.pipeline import Pipeline\n",
    "from sklearn.impute import SimpleImputer\n",
    "from sklearn.compose import ColumnTransformer\n",
    "\n",
    "train_data = pd.read_csv('../downloads/titanic/train.csv')\n",
    "test_data = pd.read_csv('../downloads/titanic/test.csv')\n",
    "\n",
    "train_data[\"AgeBucket\"] = train_data[\"Age\"] // 15 * 15\n",
    "train_data[\"RelativesOnboard\"] = train_data[\"SibSp\"] + train_data[\"Parch\"]\n",
    "\n",
    "test_data[\"AgeBucket\"] = test_data[\"Age\"] // 15 * 15\n",
    "test_data[\"RelativesOnboard\"] = test_data[\"SibSp\"] + test_data[\"Parch\"]\n",
    "\n",
    "train_data['Title'] = train_data['Name'].str.extract(' ([A-Za-z]+)\\.', expand=False)\n",
    "test_data['Title'] = test_data['Name'].str.extract(' ([A-Za-z]+)\\.', expand=False)\n",
    "\n",
    "train_data['CabinExists'] = train_data['Cabin'].notna().astype(int)\n",
    "test_data['CabinExists'] = test_data['Cabin'].notna().astype(int)\n",
    "\n",
    "train_data.set_index(\"PassengerId\")\n",
    "test_data.set_index(\"PassengerId\")\n",
    "\n",
    "# Drop the target variable column\n",
    "train_features = train_data.drop(columns=['Survived'])\n",
    "\n",
    "# Define numerical and categorical attributes based on the modified training data\n",
    "num_attribs = [col for col in train_features if train_features[col].dtype != 'object']\n",
    "cat_attribs = [col for col in train_features if train_features[col].dtype == 'object']\n",
    "\n",
    "# Define the numerical and categorical pipelines\n",
    "num_pipeline = Pipeline([\n",
    "    ('imputer', SimpleImputer(strategy='median')),\n",
    "    ('std_scaler', StandardScaler()),\n",
    "])\n",
    "\n",
    "cat_pipeline = Pipeline([\n",
    "    ('imputer', SimpleImputer(strategy='most_frequent')),\n",
    "    ('onehot', OneHotEncoder(handle_unknown='ignore', sparse=False)) \n",
    "])\n",
    "\n",
    "# Combine pipelines\n",
    "full_pipeline = ColumnTransformer([\n",
    "    ('num', num_pipeline, num_attribs),\n",
    "    ('cat', cat_pipeline, cat_attribs),\n",
    "])\n",
    "\n",
    "# Apply the pipeline to training and testing data\n",
    "X_train = full_pipeline.fit_transform(train_features)\n",
    "X_test = full_pipeline.transform(test_data)\n",
    "\n",
    "y_train = train_data['Survived']"
   ]
  },
  {
   "cell_type": "code",
   "execution_count": 3,
   "metadata": {},
   "outputs": [],
   "source": [
    "from sklearn.model_selection import train_test_split\n",
    "\n",
    "# Split the data into training and validation sets\n",
    "X_train, X_val, y_train, y_val = train_test_split(X_train, y_train, test_size=0.2, random_state=42)"
   ]
  },
  {
   "cell_type": "code",
   "execution_count": 4,
   "metadata": {},
   "outputs": [
    {
     "data": {
      "image/png": "[encoded data removed]",
      "text/plain": [
       "<Figure size 800x400 with 1 Axes>"
      ]
     },
     "metadata": {},
     "output_type": "display_data"
    }
   ],
   "source": [
    "from sklearn.model_selection import cross_val_score\n",
    "\n",
    "from sklearn.linear_model import LogisticRegression\n",
    "log_reg = LogisticRegression(random_state=42)\n",
    "log_reg.fit(X_train, y_train)\n",
    "y_pred = log_reg.predict(X_val)\n",
    "log_reg_score = cross_val_score(log_reg, X_train, y_train, cv=10)\n",
    "\n",
    "from sklearn.neighbors import KNeighborsClassifier\n",
    "knn = KNeighborsClassifier()\n",
    "knn.fit(X_train, y_train)\n",
    "y_pred = knn.predict(X_val)\n",
    "knn_score = cross_val_score(knn, X_train, y_train, cv=10)\n",
    "\n",
    "from sklearn.svm import SVC\n",
    "svc = SVC(random_state=42)\n",
    "svc.fit(X_train, y_train)\n",
    "y_pred = svc.predict(X_val)\n",
    "svc_score = cross_val_score(svc, X_train, y_train, cv=10)\n",
    "\n",
    "from xgboost import XGBClassifier\n",
    "xgb = XGBClassifier(random_state=42)\n",
    "xgb.fit(X_train, y_train)\n",
    "y_pred = xgb.predict(X_val)\n",
    "xgb_score = cross_val_score(xgb, X_train, y_train, cv=10)\n",
    "\n",
    "plt.figure(figsize=(8, 4))\n",
    "plt.plot([1]*10, log_reg_score, \".\")\n",
    "plt.plot([2]*10, knn_score, \".\")\n",
    "plt.plot([3]*10, svc_score, \".\")\n",
    "plt.plot([4]*10, xgb_score, \".\")\n",
    "plt.boxplot([log_reg_score, knn_score, svc_score, xgb_score], labels=(\"Logistic Regression\",\"k-NN \",\"SVC\",\"XGBoost\"))\n",
    "plt.ylabel(\"Accuracy\")\n",
    "plt.grid(True)\n",
    "plt.show()"
   ]
  },
  {
   "cell_type": "code",
   "execution_count": 5,
   "metadata": {},
   "outputs": [
    {
     "data": {
      "text/plain": [
       "0.8603351955307262"
      ]
     },
     "execution_count": 5,
     "metadata": {},
     "output_type": "execute_result"
    }
   ],
   "source": [
    "from sklearn.decomposition import PCA\n",
    "from sklearn.pipeline import Pipeline\n",
    "from sklearn.svm import SVC\n",
    "from sklearn.model_selection import GridSearchCV\n",
    "from sklearn.metrics import accuracy_score\n",
    "\n",
    "# First, apply PCA to reduce dimensionality\n",
    "pca_pipeline = Pipeline([\n",
    "    ('pca', PCA(n_components=0.95)),\n",
    "    ('svc', SVC(random_state=42))\n",
    "])\n",
    "\n",
    "# Define the parameter grid for SVC after PCA\n",
    "param_grid_pca = {\n",
    "    'svc__C': [0.01, 0.1, 1, 10, 100],\n",
    "    'svc__gamma': [1, 0.1, 0.01, 0.001, 0.0001],\n",
    "    'svc__kernel': ['rbf']\n",
    "}\n",
    "\n",
    "# GridSearchCV with PCA\n",
    "grid_search_pca = GridSearchCV(pca_pipeline, param_grid_pca, refit=True, cv=10, scoring='accuracy')\n",
    "grid_search_pca.fit(X_train, y_train)\n",
    "\n",
    "# Get the best estimator and evaluate on validation set\n",
    "best_svc_pca = grid_search_pca.best_estimator_\n",
    "y_pred_pca = best_svc_pca.predict(X_val)\n",
    "\n",
    "# Print the test accuracy after applying PCA\n",
    "accuracy_pca = accuracy_score(y_val, y_pred_pca)\n",
    "accuracy_pca"
   ]
  },
  {
   "cell_type": "code",
   "execution_count": 6,
   "metadata": {},
   "outputs": [
    {
     "data": {
      "text/plain": [
       "(418, 2)"
      ]
     },
     "execution_count": 6,
     "metadata": {},
     "output_type": "execute_result"
    }
   ],
   "source": [
    "predictions = best_svc_pca.predict(X_test)\n",
    "\n",
    "submission = pd.DataFrame({\n",
    "    'PassengerId': test_data['PassengerId'],\n",
    "    'Survived': predictions\n",
    "})\n",
    "\n",
    "# Save the DataFrame to a CSV file\n",
    "submission.to_csv('titanic_kaggle_submission3.csv', index=False)\n",
    "\n",
    "submission.shape"
   ]
  }
 ],
 "metadata": {
  "kernelspec": {
   "display_name": "Python 3",
   "language": "python",
   "name": "python3"
  },
  "language_info": {
   "codemirror_mode": {
    "name": "ipython",
    "version": 3
   },
   "file_extension": ".py",
   "mimetype": "text/x-python",
   "name": "python",
   "nbconvert_exporter": "python",
   "pygments_lexer": "ipython3",
   "version": "3.11.1"
  }
 },
 "nbformat": 4,
 "nbformat_minor": 2
}
