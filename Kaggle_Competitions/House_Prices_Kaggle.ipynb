{
 "cells": [
  {
   "cell_type": "code",
   "execution_count": 199,
   "metadata": {},
   "outputs": [],
   "source": [
    "import pandas as pd \n",
    "import numpy as np \n",
    "import matplotlib.pyplot as plt \n",
    "\n",
    "train = pd.read_csv('/Users/colingibbons-fly/Downloads/house-prices-advanced-regression-techniques/train.csv')\n",
    "test = pd.read_csv('/Users/colingibbons-fly/Downloads/house-prices-advanced-regression-techniques/test.csv')"
   ]
  },
  {
   "cell_type": "code",
   "execution_count": 200,
   "metadata": {},
   "outputs": [],
   "source": [
    "#Feature Engineerinng\n",
    "train['TotalSF'] = train['1stFlrSF'] + train['2ndFlrSF'] + train['TotalBsmtSF']\n",
    "train['AgeAtSale'] = train['YrSold'] - train['YearBuilt']\n",
    "train['Remodeled'] = (train['YearRemodAdd'] != train['YearBuilt']).astype(int)\n",
    "train['sqf_qual'] = train['OverallQual'] * train['TotalSF']\n",
    "train['TotalBath'] = (\n",
    "    train['FullBath'] + \n",
    "    0.5 * train['HalfBath'] + \n",
    "    train['BsmtFullBath'] + \n",
    "    0.5 * train['BsmtHalfBath']\n",
    ")\n",
    "\n",
    "test['TotalSF'] = test['1stFlrSF'] + test['2ndFlrSF'] + train['TotalBsmtSF']\n",
    "test['AgeAtSale'] = test['YrSold'] - test['YearBuilt']\n",
    "test['Remodeled'] = (test['YearRemodAdd'] != test['YearBuilt']).astype(int)\n",
    "test['sqf_qual'] = test['OverallQual'] * test['TotalSF']\n",
    "test['TotalBath'] = (\n",
    "    test['FullBath'] + \n",
    "    0.5 * test['HalfBath'] + \n",
    "    test['BsmtFullBath'] + \n",
    "    0.5 * test['BsmtHalfBath']\n",
    ")"
   ]
  },
  {
   "cell_type": "code",
   "execution_count": 201,
   "metadata": {},
   "outputs": [],
   "source": [
    "import pandas as pd\n",
    "from sklearn.impute import SimpleImputer\n",
    "from sklearn.preprocessing import StandardScaler, OneHotEncoder\n",
    "from sklearn.compose import ColumnTransformer\n",
    "from sklearn.pipeline import Pipeline\n",
    "\n",
    "# Drop the target variable column\n",
    "train_features = train.drop(columns=['SalePrice'])\n",
    "\n",
    "# Define numerical and categorical attributes based on the modified training data\n",
    "num_attribs = [col for col in train_features if train_features[col].dtype != 'object']\n",
    "cat_attribs = [col for col in train_features if train_features[col].dtype == 'object']\n",
    "\n",
    "# Define the numerical and categorical pipelines\n",
    "num_pipeline = Pipeline([\n",
    "    ('imputer', SimpleImputer(strategy='median')),\n",
    "    ('std_scaler', StandardScaler()),\n",
    "])\n",
    "\n",
    "cat_pipeline = Pipeline([\n",
    "    ('imputer', SimpleImputer(strategy='most_frequent')),\n",
    "    ('onehot', OneHotEncoder(handle_unknown='ignore'))\n",
    "])\n",
    "\n",
    "# Combine pipelines\n",
    "full_pipeline = ColumnTransformer([\n",
    "    ('num', num_pipeline, num_attribs),\n",
    "    ('cat', cat_pipeline, cat_attribs),\n",
    "])\n",
    "\n",
    "# Apply the pipeline to training and testing data\n",
    "X_train_prepared = full_pipeline.fit_transform(train_features)\n",
    "X_test_prepared = full_pipeline.transform(test)\n",
    "\n",
    "# Convert to DataFrame if needed\n",
    "X_train_prepared_df = pd.DataFrame(X_train_prepared.toarray(), columns=full_pipeline.get_feature_names_out())\n",
    "X_test_prepared_df = pd.DataFrame(X_test_prepared.toarray(), columns=full_pipeline.get_feature_names_out())\n",
    "\n",
    "# Extract the target variable\n",
    "y_train = train['SalePrice']"
   ]
  },
  {
   "cell_type": "code",
   "execution_count": 202,
   "metadata": {},
   "outputs": [],
   "source": [
    "from sklearn.model_selection import train_test_split\n",
    "\n",
    "# Split the data into training and validation sets\n",
    "X_train, X_val, y_train, y_val = train_test_split(X_train_prepared, y_train, test_size=0.2, random_state=42)"
   ]
  },
  {
   "cell_type": "code",
   "execution_count": 203,
   "metadata": {},
   "outputs": [
    {
     "data": {
      "image/png": "[encoded data removed]",
      "text/plain": [
       "<Figure size 800x300 with 1 Axes>"
      ]
     },
     "metadata": {},
     "output_type": "display_data"
    }
   ],
   "source": [
    "from sklearn.model_selection import cross_val_score\n",
    "\n",
    "#Ridge Model\n",
    "from sklearn.linear_model import Ridge\n",
    "ridge = Ridge()\n",
    "ridge.fit(X_train, y_train)\n",
    "y_pred = ridge.predict(X_val)\n",
    "ridge_score = cross_val_score(ridge, X_train, y_train, cv=10)\n",
    "\n",
    "#Random Forest Regressor Model\n",
    "from sklearn.ensemble import RandomForestRegressor\n",
    "forest_reg = RandomForestRegressor()\n",
    "forest_reg.fit(X_train, y_train)\n",
    "y_pred = forest_reg.predict(X_val)\n",
    "forest_reg_score = cross_val_score(forest_reg, X_train, y_train, cv=10)\n",
    "\n",
    "#XGBoost\n",
    "from xgboost import XGBRegressor\n",
    "xgb_reg = XGBRegressor()\n",
    "xgb_reg.fit(X_train, y_train)\n",
    "y_pred = xgb_reg.predict(X_val)\n",
    "xgb_reg_score = cross_val_score(xgb_reg, X_train, y_train, cv=10)\n",
    "\n",
    "#Create a boxplot evaluating the models performances\n",
    "plt.figure(figsize=(8, 3))\n",
    "plt.plot([1]*10, ridge_score, \".\")\n",
    "plt.plot([2]*10, forest_reg_score, \".\")\n",
    "plt.plot([3]*10, xgb_reg_score, \".\")\n",
    "plt.boxplot([ridge_score, forest_reg_score, xgb_reg_score], labels=(\"Ridge\", \"Random Forest\", \"XGBoost\"))\n",
    "plt.ylabel(\"Accuracy\")\n",
    "plt.grid(True)\n",
    "plt.show()"
   ]
  },
  {
   "cell_type": "code",
   "execution_count": 204,
   "metadata": {},
   "outputs": [
    {
     "name": "stdout",
     "output_type": "stream",
     "text": [
      "30628.56180428348\n"
     ]
    }
   ],
   "source": [
    "from sklearn.model_selection import GridSearchCV\n",
    "from sklearn.metrics import mean_squared_error\n",
    "\n",
    "ridge = Ridge(random_state=42)\n",
    "param_grid = {\n",
    "    'alpha': [0.1, 1, 10, 50, 100, 200, 500],     \n",
    "    'tol': [1e-3, 1e-4, 1e-5]                    \n",
    "}\n",
    "\n",
    "ridge_grid_search = GridSearchCV(ridge, param_grid, cv=5,\n",
    "                           scoring='neg_mean_squared_error',\n",
    "                           return_train_score=True)\n",
    "\n",
    "ridge_grid_search.fit(X_train, y_train)\n",
    "ridge_final_model = ridge_grid_search.best_estimator_\n",
    "ridge_final_predictions = ridge_final_model.predict(X_val)\n",
    "ridge_final_mse = mean_squared_error(y_val, ridge_final_predictions)\n",
    "ridge_final_rmse =  np.sqrt(ridge_final_mse)\n",
    "print(ridge_final_rmse)"
   ]
  },
  {
   "cell_type": "code",
   "execution_count": 205,
   "metadata": {},
   "outputs": [
    {
     "name": "stdout",
     "output_type": "stream",
     "text": [
      "29824.949951468618\n"
     ]
    }
   ],
   "source": [
    "forest_reg = RandomForestRegressor(random_state=42)\n",
    "param_grid = {\n",
    "    'n_estimators': [100, 200, 500, 1000],           \n",
    "    'max_depth': [None, 10, 20, 30, 50],                              \n",
    "    'max_features': [10,25, 40, 75, 100]         \n",
    "}\n",
    "\n",
    "forest_grid_search = GridSearchCV(forest_reg, param_grid, cv=5,\n",
    "                           scoring='neg_mean_squared_error',\n",
    "                           return_train_score=True)\n",
    "\n",
    "forest_grid_search.fit(X_train, y_train)    \n",
    "forest_final_model = forest_grid_search.best_estimator_\n",
    "forest_final_predictions = forest_final_model.predict(X_val)\n",
    "forest_final_mse = mean_squared_error(y_val, forest_final_predictions)\n",
    "forest_final_rmse =  np.sqrt(forest_final_mse)\n",
    "print(forest_final_rmse)"
   ]
  },
  {
   "cell_type": "code",
   "execution_count": 206,
   "metadata": {},
   "outputs": [
    {
     "name": "stdout",
     "output_type": "stream",
     "text": [
      "26651.904383934\n"
     ]
    }
   ],
   "source": [
    "xgb_reg = XGBRegressor(random_state=42)\n",
    "param_grid = {\n",
    "    'n_estimators': [100, 500, 1000],                \n",
    "    'max_depth': [3, 5, 7, 10],                              \n",
    "    'gamma': [0, 0.1, 0.3, 0.5],                     \n",
    "                 \n",
    "}\n",
    "\n",
    "xgb_grid_search = GridSearchCV(xgb_reg, param_grid, cv=5,\n",
    "                           scoring='neg_mean_squared_error',\n",
    "                           return_train_score=True)\n",
    "\n",
    "xgb_grid_search.fit(X_train, y_train)    \n",
    "xgb_final_model = xgb_grid_search.best_estimator_\n",
    "xgb_final_predictions = xgb_final_model.predict(X_val)\n",
    "xgb_final_mse = mean_squared_error(y_val, xgb_final_predictions)\n",
    "xgb_final_rmse =  np.sqrt(xgb_final_mse)\n",
    "print(xgb_final_rmse)"
   ]
  },
  {
   "cell_type": "code",
   "execution_count": 212,
   "metadata": {},
   "outputs": [
    {
     "data": {
      "text/html": [
       "<div>\n",
       "<style scoped>\n",
       "    .dataframe tbody tr th:only-of-type {\n",
       "        vertical-align: middle;\n",
       "    }\n",
       "\n",
       "    .dataframe tbody tr th {\n",
       "        vertical-align: top;\n",
       "    }\n",
       "\n",
       "    .dataframe thead th {\n",
       "        text-align: right;\n",
       "    }\n",
       "</style>\n",
       "<table border=\"1\" class=\"dataframe\">\n",
       "  <thead>\n",
       "    <tr style=\"text-align: right;\">\n",
       "      <th></th>\n",
       "      <th>Id</th>\n",
       "      <th>SalePrice</th>\n",
       "    </tr>\n",
       "  </thead>\n",
       "  <tbody>\n",
       "    <tr>\n",
       "      <th>0</th>\n",
       "      <td>1461</td>\n",
       "      <td>123485.539062</td>\n",
       "    </tr>\n",
       "    <tr>\n",
       "      <th>1</th>\n",
       "      <td>1462</td>\n",
       "      <td>164474.781250</td>\n",
       "    </tr>\n",
       "    <tr>\n",
       "      <th>2</th>\n",
       "      <td>1463</td>\n",
       "      <td>172645.656250</td>\n",
       "    </tr>\n",
       "    <tr>\n",
       "      <th>3</th>\n",
       "      <td>1464</td>\n",
       "      <td>186818.578125</td>\n",
       "    </tr>\n",
       "    <tr>\n",
       "      <th>4</th>\n",
       "      <td>1465</td>\n",
       "      <td>186346.437500</td>\n",
       "    </tr>\n",
       "  </tbody>\n",
       "</table>\n",
       "</div>"
      ],
      "text/plain": [
       "     Id      SalePrice\n",
       "0  1461  123485.539062\n",
       "1  1462  164474.781250\n",
       "2  1463  172645.656250\n",
       "3  1464  186818.578125\n",
       "4  1465  186346.437500"
      ]
     },
     "execution_count": 212,
     "metadata": {},
     "output_type": "execute_result"
    }
   ],
   "source": [
    "predictions = xgb_final_model.predict(X_test_prepared)\n",
    "\n",
    "submission = pd.DataFrame({\n",
    "    'Id': test['Id'],\n",
    "    'SalePrice': predictions\n",
    "})\n",
    "\n",
    "# Save the DataFrame to a CSV file\n",
    "submission.to_csv('housing_kaggle_submission.csv', index=False)\n",
    "\n",
    "submission.head()"
   ]
  },
  {
   "cell_type": "code",
   "execution_count": null,
   "metadata": {},
   "outputs": [],
   "source": []
  }
 ],
 "metadata": {
  "kernelspec": {
   "display_name": "Python 3",
   "language": "python",
   "name": "python3"
  },
  "language_info": {
   "codemirror_mode": {
    "name": "ipython",
    "version": 3
   },
   "file_extension": ".py",
   "mimetype": "text/x-python",
   "name": "python",
   "nbconvert_exporter": "python",
   "pygments_lexer": "ipython3",
   "version": "3.11.1"
  }
 },
 "nbformat": 4,
 "nbformat_minor": 2
}
